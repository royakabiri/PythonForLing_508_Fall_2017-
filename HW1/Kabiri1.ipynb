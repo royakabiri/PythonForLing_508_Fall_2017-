{
 "cells": [
  {
   "cell_type": "markdown",
   "metadata": {},
   "source": [
    "<IMG align=left src=\"https://faculty.sbs.arizona.edu/hammond/ling508-f17/logo.png\" height=30>\n",
    "\n",
    "<div align=right>\n",
    "Linguistics 408/508<br>\n",
    "Hammond<br>\n",
    "Fall 2017\n",
    "</div>\n",
    "\n",
    "<h1 align=center>Homework #1</h1>\n",
    "\n",
    "## General\n",
    "\n",
    "<ol>\n",
    "\n",
    "<li>This is due at the <i>beginning</i> of class on <b>Sept. 5</b>\n",
    "\n",
    "<li>Rename this file based on your last name, e.g. <code>hw1.ipynb</code> &rarr; <code>jones1.ipynb</code>\n",
    "\n",
    "<li>Answer all questions in code or text/markdown boxes.\n",
    "\n",
    "<li>Code does not need to be perfect, but make sure it runs without error\n",
    "\n",
    "<li>Make sure to <i>save</i> the file....\n",
    "\n",
    "</ol>"
   ]
  },
  {
   "cell_type": "markdown",
   "metadata": {},
   "source": [
    "## 408 and 508\n",
    "\n",
    "<ol>\n",
    "\n",
    "<li>Add a line of code that will calculate how many times the string <code>'at'</code> occurs in this sentence.\n",
    "\n",
    "</ol>"
   ]
  },
  {
   "cell_type": "markdown",
   "metadata": {},
   "source": [
    "There are two ways to code this:"
   ]
  },
  {
   "cell_type": "code",
   "execution_count": 1,
   "metadata": {},
   "outputs": [
    {
     "data": {
      "text/plain": [
       "3"
      ]
     },
     "execution_count": 1,
     "metadata": {},
     "output_type": "execute_result"
    }
   ],
   "source": [
    "\"Add a line of code that will calculate how many times the string 'at' occurs in this sentence.\".count (\"at\")"
   ]
  },
  {
   "cell_type": "code",
   "execution_count": 2,
   "metadata": {},
   "outputs": [
    {
     "data": {
      "text/plain": [
       "3"
      ]
     },
     "execution_count": 2,
     "metadata": {},
     "output_type": "execute_result"
    }
   ],
   "source": [
    "x = \"Add a line of code that will calculate how many times the string 'at' occurs in this sentence.\"\n",
    "x.count (\"at\")"
   ]
  },
  {
   "cell_type": "markdown",
   "metadata": {},
   "source": [
    "<ol start=2>\n",
    "\n",
    "<li>Explain why the following does not work. In the box that follows, correct it so that it does.\n",
    "\n",
    "</ol>"
   ]
  },
  {
   "cell_type": "markdown",
   "metadata": {},
   "source": [
    "The methods (unlike functions) need to follow the variable which is a string. In other words, they need a string and a period on their left. In the following code, the method 'upper' precedes the string 'This won't work', leading to an error while runnng the code. "
   ]
  },
  {
   "cell_type": "code",
   "execution_count": 3,
   "metadata": {},
   "outputs": [
    {
     "ename": "SyntaxError",
     "evalue": "invalid syntax (<ipython-input-3-2da2f27ba5ad>, line 1)",
     "output_type": "error",
     "traceback": [
      "\u001b[1;36m  File \u001b[1;32m\"<ipython-input-3-2da2f27ba5ad>\"\u001b[1;36m, line \u001b[1;32m1\u001b[0m\n\u001b[1;33m    upper('This won't work')\u001b[0m\n\u001b[1;37m                    ^\u001b[0m\n\u001b[1;31mSyntaxError\u001b[0m\u001b[1;31m:\u001b[0m invalid syntax\n"
     ]
    }
   ],
   "source": [
    "upper('This won't work')"
   ]
  },
  {
   "cell_type": "markdown",
   "metadata": {},
   "source": [
    "The correct code will be:"
   ]
  },
  {
   "cell_type": "code",
   "execution_count": 4,
   "metadata": {},
   "outputs": [
    {
     "data": {
      "text/plain": [
       "\"THIS WON'T WORK\""
      ]
     },
     "execution_count": 4,
     "metadata": {},
     "output_type": "execute_result"
    }
   ],
   "source": [
    "x = \"This won't work\"\n",
    "x.upper()"
   ]
  },
  {
   "cell_type": "markdown",
   "metadata": {},
   "source": [
    "or:"
   ]
  },
  {
   "cell_type": "code",
   "execution_count": 4,
   "metadata": {},
   "outputs": [
    {
     "data": {
      "text/plain": [
       "\"THIS WON'T WORK\""
      ]
     },
     "execution_count": 4,
     "metadata": {},
     "output_type": "execute_result"
    }
   ],
   "source": [
    "\"This won't work\".upper()\n"
   ]
  },
  {
   "cell_type": "markdown",
   "metadata": {},
   "source": [
    "<ol start=3>\n",
    "\n",
    "<li>For each of the following, explain whether it's true or false <i>and why</i>.<p>\n",
    "\n",
    "(You will need to add text/markdown cells for each to do this.)\n",
    "\n",
    "</ol>"
   ]
  },
  {
   "cell_type": "code",
   "execution_count": 5,
   "metadata": {},
   "outputs": [
    {
     "data": {
      "text/plain": [
       "True"
      ]
     },
     "execution_count": 5,
     "metadata": {},
     "output_type": "execute_result"
    }
   ],
   "source": [
    "'hat' == \"hat\""
   ]
  },
  {
   "cell_type": "markdown",
   "metadata": {},
   "source": [
    "This is True as the double equal sign (==) is used for testing equality and in this case both sides of the equality sign are equal. Note that single quotes and double quotes are not different in python."
   ]
  },
  {
   "cell_type": "code",
   "execution_count": 6,
   "metadata": {},
   "outputs": [
    {
     "ename": "NameError",
     "evalue": "name 'hat' is not defined",
     "output_type": "error",
     "traceback": [
      "\u001b[1;31m---------------------------------------------------------------------------\u001b[0m",
      "\u001b[1;31mNameError\u001b[0m                                 Traceback (most recent call last)",
      "\u001b[1;32m<ipython-input-6-8667f87da5e0>\u001b[0m in \u001b[0;36m<module>\u001b[1;34m()\u001b[0m\n\u001b[1;32m----> 1\u001b[1;33m \u001b[0mhat\u001b[0m \u001b[1;33m==\u001b[0m \u001b[1;34m'hat'\u001b[0m\u001b[1;33m\u001b[0m\u001b[0m\n\u001b[0m",
      "\u001b[1;31mNameError\u001b[0m: name 'hat' is not defined"
     ]
    }
   ],
   "source": [
    "hat == 'hat'"
   ]
  },
  {
   "cell_type": "markdown",
   "metadata": {},
   "source": [
    "This code gives an error since these two arguments cannot be compared with each other as python treats hat as three characters and 'hat' as a string, leading to the conclusion that they do not belong to the same datatype. On the left, hat must be entered in the quotes, so that python can distinguish it as a string and then compare it to the argument at the right side which is also a string 'hat' (just like the previous code)."
   ]
  },
  {
   "cell_type": "code",
   "execution_count": 7,
   "metadata": {},
   "outputs": [
    {
     "data": {
      "text/plain": [
       "False"
      ]
     },
     "execution_count": 7,
     "metadata": {},
     "output_type": "execute_result"
    }
   ],
   "source": [
    "\n",
    "1/3 == .33"
   ]
  },
  {
   "cell_type": "markdown",
   "metadata": {},
   "source": [
    "This is false since two arguments in both sides are not exactly equal. The number on the right should have more decimals. I think if we round down to two decimals, it might become True but I could not figure out how to round down to two decimals and see if the statement is still False or not.  \n",
    "The following code will be True: "
   ]
  },
  {
   "cell_type": "code",
   "execution_count": 8,
   "metadata": {},
   "outputs": [
    {
     "data": {
      "text/plain": [
       "True"
      ]
     },
     "execution_count": 8,
     "metadata": {},
     "output_type": "execute_result"
    }
   ],
   "source": [
    "1/3 == .3333333333333333"
   ]
  },
  {
   "cell_type": "code",
   "execution_count": 9,
   "metadata": {},
   "outputs": [
    {
     "data": {
      "text/plain": [
       "False"
      ]
     },
     "execution_count": 9,
     "metadata": {},
     "output_type": "execute_result"
    }
   ],
   "source": [
    "'three' > 'two'"
   ]
  },
  {
   "cell_type": "markdown",
   "metadata": {},
   "source": [
    "This is False as the operation > is used with strings with a different interpretation than when it is used with numbers datatype. In this case, it means \"follows alphabetically\", not \"greater than\". Since both \"three\" and \"two\" starts with \"t\", the former does not follow the latter alphabetically.  "
   ]
  },
  {
   "cell_type": "code",
   "execution_count": 9,
   "metadata": {},
   "outputs": [
    {
     "ename": "SyntaxError",
     "evalue": "can't assign to operator (<ipython-input-9-1e600edb80ad>, line 1)",
     "output_type": "error",
     "traceback": [
      "\u001b[1;36m  File \u001b[1;32m\"<ipython-input-9-1e600edb80ad>\"\u001b[1;36m, line \u001b[1;32m1\u001b[0m\n\u001b[1;33m    2 + 2 = 4\u001b[0m\n\u001b[1;37m             ^\u001b[0m\n\u001b[1;31mSyntaxError\u001b[0m\u001b[1;31m:\u001b[0m can't assign to operator\n"
     ]
    }
   ],
   "source": [
    "2 + 2 = 4"
   ]
  },
  {
   "cell_type": "markdown",
   "metadata": {},
   "source": [
    "Python gives an error while running this code. A single equal sign (=) is interpreted as assignment operator, creating a variable by assigning a value/content to it. In this case, python interprets 2+2 as a variable which is assigned the value 4, not as an statement to test equality. \n",
    "Apart from that, as the name of the variable cannot start with a number, python cannot interpret it even as a variable with some content, leading to gives an error.\n",
    "The following code will be True:   "
   ]
  },
  {
   "cell_type": "code",
   "execution_count": 10,
   "metadata": {},
   "outputs": [
    {
     "data": {
      "text/plain": [
       "True"
      ]
     },
     "execution_count": 10,
     "metadata": {},
     "output_type": "execute_result"
    }
   ],
   "source": [
    "2 + 2 == 4"
   ]
  },
  {
   "cell_type": "markdown",
   "metadata": {},
   "source": [
    "<ol start=4>\n",
    "\n",
    "<li>Lists and strings are similar in many ways. List <i>and exemplify with code</i> three ways that they are <i>not</i> alike.<p>\n",
    "\n",
    "(To do this, you will need to <i>add</i> code and text/markdown boxes below.)\n",
    "\n",
    "</ol>"
   ]
  },
  {
   "cell_type": "markdown",
   "metadata": {},
   "source": [
    "Lists are mutable i.e. they can be changed whereas strings are immutable i.e. that cannot be changed.  "
   ]
  },
  {
   "cell_type": "markdown",
   "metadata": {},
   "source": [
    "First, it is possible to change the value of a list after we create it as it is shown in the following code (\"orange\" changes to \"strawberry\") While it is not possible to modify a character/element of a string (\"fruit\" will not change to \"fluit\")."
   ]
  },
  {
   "cell_type": "code",
   "execution_count": 19,
   "metadata": {},
   "outputs": [
    {
     "data": {
      "text/plain": [
       "['apple', 'strawberry', 'peach']"
      ]
     },
     "execution_count": 19,
     "metadata": {},
     "output_type": "execute_result"
    }
   ],
   "source": [
    "x = [\"apple\", \"orange\", \"peach\"]\n",
    "x [1] = \"strawberry\"\n",
    "x"
   ]
  },
  {
   "cell_type": "code",
   "execution_count": 21,
   "metadata": {},
   "outputs": [
    {
     "ename": "TypeError",
     "evalue": "'str' object does not support item assignment",
     "output_type": "error",
     "traceback": [
      "\u001b[1;31m---------------------------------------------------------------------------\u001b[0m",
      "\u001b[1;31mTypeError\u001b[0m                                 Traceback (most recent call last)",
      "\u001b[1;32m<ipython-input-21-d317ab940f7c>\u001b[0m in \u001b[0;36m<module>\u001b[1;34m()\u001b[0m\n\u001b[0;32m      1\u001b[0m \u001b[0my\u001b[0m \u001b[1;33m=\u001b[0m \u001b[1;34m\"fruit\"\u001b[0m\u001b[1;33m\u001b[0m\u001b[0m\n\u001b[1;32m----> 2\u001b[1;33m \u001b[0my\u001b[0m\u001b[1;33m[\u001b[0m\u001b[1;36m1\u001b[0m\u001b[1;33m]\u001b[0m \u001b[1;33m=\u001b[0m \u001b[1;34m\"l\"\u001b[0m\u001b[1;33m\u001b[0m\u001b[0m\n\u001b[0m\u001b[0;32m      3\u001b[0m \u001b[0my\u001b[0m\u001b[1;33m\u001b[0m\u001b[0m\n",
      "\u001b[1;31mTypeError\u001b[0m: 'str' object does not support item assignment"
     ]
    }
   ],
   "source": [
    "y = \"fruit\"\n",
    "y[1] = \"l\"\n",
    "y"
   ]
  },
  {
   "cell_type": "markdown",
   "metadata": {},
   "source": [
    "Second, it is possible to add a new item to the list as opposed to strings (\"fruit\" will not change to \"fruits\"). "
   ]
  },
  {
   "cell_type": "code",
   "execution_count": 22,
   "metadata": {},
   "outputs": [
    {
     "data": {
      "text/plain": [
       "['apple', 'orange', 'peach', 'banana']"
      ]
     },
     "execution_count": 22,
     "metadata": {},
     "output_type": "execute_result"
    }
   ],
   "source": [
    "x = [\"apple\", \"orange\", \"peach\"]\n",
    "x. append (\"banana\")\n",
    "x"
   ]
  },
  {
   "cell_type": "code",
   "execution_count": 23,
   "metadata": {},
   "outputs": [
    {
     "ename": "AttributeError",
     "evalue": "'str' object has no attribute 'append'",
     "output_type": "error",
     "traceback": [
      "\u001b[1;31m---------------------------------------------------------------------------\u001b[0m",
      "\u001b[1;31mAttributeError\u001b[0m                            Traceback (most recent call last)",
      "\u001b[1;32m<ipython-input-23-c921c5531f32>\u001b[0m in \u001b[0;36m<module>\u001b[1;34m()\u001b[0m\n\u001b[0;32m      1\u001b[0m \u001b[0my\u001b[0m \u001b[1;33m=\u001b[0m \u001b[1;34m\"fruit\"\u001b[0m\u001b[1;33m\u001b[0m\u001b[0m\n\u001b[1;32m----> 2\u001b[1;33m \u001b[0my\u001b[0m\u001b[1;33m.\u001b[0m \u001b[0mappend\u001b[0m \u001b[1;33m(\u001b[0m\u001b[1;34m\"s\"\u001b[0m\u001b[1;33m)\u001b[0m\u001b[1;33m\u001b[0m\u001b[0m\n\u001b[0m\u001b[0;32m      3\u001b[0m \u001b[0my\u001b[0m\u001b[1;33m\u001b[0m\u001b[0m\n",
      "\u001b[1;31mAttributeError\u001b[0m: 'str' object has no attribute 'append'"
     ]
    }
   ],
   "source": [
    "y = \"fruit\"\n",
    "y. append (\"s\")\n",
    "y"
   ]
  },
  {
   "cell_type": "markdown",
   "metadata": {},
   "source": [
    "Third, strings treat integers as characters (if operator + is applied, they concatenate two variables, not adding them as integers) while lists treat them as integers.\n"
   ]
  },
  {
   "cell_type": "code",
   "execution_count": 13,
   "metadata": {},
   "outputs": [
    {
     "name": "stdout",
     "output_type": "stream",
     "text": [
      "679\n"
     ]
    }
   ],
   "source": [
    "myStr1 = '67'\n",
    "myStr2 = '9'\n",
    "print (myStr1 + myStr2)"
   ]
  },
  {
   "cell_type": "code",
   "execution_count": 2,
   "metadata": {},
   "outputs": [
    {
     "name": "stdout",
     "output_type": "stream",
     "text": [
      "52\n"
     ]
    }
   ],
   "source": [
    "myList = [ 45, 56, 7]\n",
    "print (7 + 45)"
   ]
  },
  {
   "cell_type": "markdown",
   "metadata": {},
   "source": [
    "Fourth, it is possible to delete an item in a list but not possible to delete a character of a string (\"fruit\" will not change to \"ruit\")."
   ]
  },
  {
   "cell_type": "code",
   "execution_count": 24,
   "metadata": {},
   "outputs": [
    {
     "data": {
      "text/plain": [
       "['orange', 'peach']"
      ]
     },
     "execution_count": 24,
     "metadata": {},
     "output_type": "execute_result"
    }
   ],
   "source": [
    "x = [\"apple\", \"orange\", \"peach\"]\n",
    "x. pop (0)\n",
    "x"
   ]
  },
  {
   "cell_type": "code",
   "execution_count": 25,
   "metadata": {},
   "outputs": [
    {
     "ename": "AttributeError",
     "evalue": "'str' object has no attribute 'pop'",
     "output_type": "error",
     "traceback": [
      "\u001b[1;31m---------------------------------------------------------------------------\u001b[0m",
      "\u001b[1;31mAttributeError\u001b[0m                            Traceback (most recent call last)",
      "\u001b[1;32m<ipython-input-25-482b4591d720>\u001b[0m in \u001b[0;36m<module>\u001b[1;34m()\u001b[0m\n\u001b[0;32m      1\u001b[0m \u001b[0my\u001b[0m \u001b[1;33m=\u001b[0m \u001b[1;34m\"fruit\"\u001b[0m\u001b[1;33m\u001b[0m\u001b[0m\n\u001b[1;32m----> 2\u001b[1;33m \u001b[0my\u001b[0m\u001b[1;33m.\u001b[0m \u001b[0mpop\u001b[0m\u001b[1;33m(\u001b[0m\u001b[1;36m0\u001b[0m\u001b[1;33m)\u001b[0m\u001b[1;33m\u001b[0m\u001b[0m\n\u001b[0m\u001b[0;32m      3\u001b[0m \u001b[0my\u001b[0m\u001b[1;33m\u001b[0m\u001b[0m\n",
      "\u001b[1;31mAttributeError\u001b[0m: 'str' object has no attribute 'pop'"
     ]
    }
   ],
   "source": [
    "y = \"fruit\"\n",
    "y. pop(0)\n",
    "y"
   ]
  },
  {
   "cell_type": "markdown",
   "metadata": {},
   "source": [
    "Note that we can reuse the variable names again and again for strings but it does not mean that we change the objects. Actually, they return a new string and leave the previous one out. \n",
    "In the following code, y has the value \"fruit\", then a new value \"fruits\" is given to it, leaving out the first one. "
   ]
  },
  {
   "cell_type": "code",
   "execution_count": 26,
   "metadata": {},
   "outputs": [
    {
     "data": {
      "text/plain": [
       "'fruits'"
      ]
     },
     "execution_count": 26,
     "metadata": {},
     "output_type": "execute_result"
    }
   ],
   "source": [
    "y = \"fruit\"\n",
    "y = \"fruits\"\n",
    "y\n"
   ]
  },
  {
   "cell_type": "markdown",
   "metadata": {},
   "source": [
    "<ol start=5>\n",
    "\n",
    "<li>Create a dictionary that represents information about students. The key for each entry would be the student's name, but the value for each entry is a tuple of the student's age and GPA.<p>\n",
    "\n",
    "Then write code so the user gets to \"ask\" the dictionary for the records for a particular student.<p>\n",
    "\n",
    "When the program prints out the students record, it should <i>not</i> be as a tuple, but separate lines for age and GPA.\n",
    "\n",
    "</ol>"
   ]
  },
  {
   "cell_type": "code",
   "execution_count": 20,
   "metadata": {},
   "outputs": [
    {
     "name": "stdout",
     "output_type": "stream",
     "text": [
      "please enter the name of the student: jack\n",
      "jack's age is 23.\n",
      "jack's GPA is 3.9.\n"
     ]
    }
   ],
   "source": [
    "stuInfo = {'sarah': (29, 3.5 ), 'john': (18, 2.9), 'jack': (23, 3.9), 'andrew': (26, 4.0), 'tom': (25, 2.5), 'lara': (20, 2.8)}\n",
    "a = input('please enter the name of the student: ')\n",
    "\n",
    "print (a + \"'s age is \" + str (stuInfo [a][0])+ \".\" + \"\\n\"\n",
    "       + a + \"'s GPA is \" + str (stuInfo [a][1])+ \".\")"
   ]
  },
  {
   "cell_type": "markdown",
   "metadata": {},
   "source": [
    "Sometimes the user might enter a name which is not in the dictionary. Thus, I also add an \"if...else\" statement to inform the user that the name is not included in the database."
   ]
  },
  {
   "cell_type": "code",
   "execution_count": 22,
   "metadata": {},
   "outputs": [
    {
     "name": "stdout",
     "output_type": "stream",
     "text": [
      "please enter the name of the student: roya\n",
      "Sorry, the records of this student is not available.\n"
     ]
    }
   ],
   "source": [
    "stuInfo = {'sarah': (29, 3.5 ), 'john': (18, 2.9), 'jack': (23, 3.9), 'andrew': (26, 4.0), 'tom': (25, 2.5), 'lara': (20, 2.8)}\n",
    "a = input('please enter the name of the student: ')\n",
    "\n",
    "if a in stuInfo: \n",
    " print (a + \"'s age is \" + str (stuInfo [a][0])+ \".\" + \"\\n\"\n",
    "       + a + \"'s GPA is \" + str (stuInfo [a][1])+ \".\")\n",
    "else:\n",
    " print (\"Sorry, the records of this student is not available.\")\n",
    "\n",
    "\n"
   ]
  },
  {
   "cell_type": "markdown",
   "metadata": {},
   "source": [
    "## 508 only\n",
    "\n",
    "<ol start=6>\n",
    "\n",
    "<li>Create a small dictionary for two languages you know. (One can be English.) Using the <code>input()</code> command and the <code>format()</code> method, build a simple translation program.\n",
    "\n",
    "</ol>"
   ]
  },
  {
   "cell_type": "code",
   "execution_count": 21,
   "metadata": {},
   "outputs": [
    {
     "name": "stdout",
     "output_type": "stream",
     "text": [
      "please enter the word: pear\n"
     ]
    },
    {
     "data": {
      "text/plain": [
       "'The word \"pear\" is \"گلابی\" in Persian.'"
      ]
     },
     "execution_count": 21,
     "metadata": {},
     "output_type": "execute_result"
    }
   ],
   "source": [
    "myFruitDict = {'apple': 'سیب', 'orange': 'پرتقال', \"peach\": 'هلو', \"pear\": \"گلابی\", \"watermelon\": \"هندوانه\", \"grape\": \"انگور\", \"banana\":\"موز\", \"mango\":\"انبه\", \"strawberry\": \"توت فرنگی\"};\n",
    "enteredWord = input ('please enter the word: ');\n",
    "equiWord = myFruitDict[enteredWord];\n",
    "transOutput = 'The word \"{}\" is \"{}\" in Persian.';\n",
    "transOutput.format (enteredWord, equiWord)"
   ]
  },
  {
   "cell_type": "markdown",
   "metadata": {},
   "source": [
    "In my laptop, the words I have written in Persian alphabet are shown without any problem when I run this code but since I am not sure if they will be shown in yours, I include another code using the English alphabet for those words. "
   ]
  },
  {
   "cell_type": "code",
   "execution_count": 19,
   "metadata": {},
   "outputs": [
    {
     "name": "stdout",
     "output_type": "stream",
     "text": [
      "please enter the word: peach\n"
     ]
    },
    {
     "data": {
      "text/plain": [
       "'The word \"peach\" is \"holou\" in Persian.'"
      ]
     },
     "execution_count": 19,
     "metadata": {},
     "output_type": "execute_result"
    }
   ],
   "source": [
    "myFruitDict = {'apple': 'sib', 'orange': 'porteghal', \"peach\": 'holou', \"pear\": \"golabi\", \"watermelon\": \"hendavaneh\", \"grape\": \"angour\", \"banana\": \"mouz\", \"mango\":\"anbeh\", \"strawberry\": \"tout farangi\" }\n",
    "enteredWord = input ('please enter the word: ');\n",
    "equiWord = myFruitDict[enteredWord];\n",
    "transOutput = 'The word \"{}\" is \"{}\" in Persian.';\n",
    "transOutput.format (enteredWord, equiWord)"
   ]
  },
  {
   "cell_type": "code",
   "execution_count": null,
   "metadata": {
    "collapsed": true
   },
   "outputs": [],
   "source": []
  }
 ],
 "metadata": {
  "kernelspec": {
   "display_name": "Python 3",
   "language": "python",
   "name": "python3"
  },
  "language_info": {
   "codemirror_mode": {
    "name": "ipython",
    "version": 3
   },
   "file_extension": ".py",
   "mimetype": "text/x-python",
   "name": "python",
   "nbconvert_exporter": "python",
   "pygments_lexer": "ipython3",
   "version": "3.6.1"
  }
 },
 "nbformat": 4,
 "nbformat_minor": 2
}
