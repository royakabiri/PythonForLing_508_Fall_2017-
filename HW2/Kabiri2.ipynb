{
 "cells": [
  {
   "cell_type": "markdown",
   "metadata": {},
   "source": [
    "<IMG align=left src=\"https://faculty.sbs.arizona.edu/hammond/ling508-f17/logo.png\" height=30>\n",
    "\n",
    "<div align=right>\n",
    "Linguistics 408/508<br>\n",
    "Hammond<br>\n",
    "Fall 2017\n",
    "</div>\n",
    "\n",
    "<h1 align=center>Homework #2</h1>\n",
    "\n",
    "## General\n",
    "\n",
    "<ol>\n",
    "\n",
    "<li>This is due at the <i>beginning</i> of class on <b>Sept. 19</b>\n",
    "\n",
    "<li>Rename this file based on your last name, e.g. <code>hw2.ipynb</code> &rarr; <code>jones2.ipynb</code>\n",
    "\n",
    "<li>Answer all questions in code or text/markdown boxes.\n",
    "\n",
    "<li>Code does not need to be perfect, but make sure it runs without error\n",
    "\n",
    "<li>Make sure to <i>save</i> the file....\n",
    "\n",
    "</ol>"
   ]
  },
  {
   "cell_type": "markdown",
   "metadata": {},
   "source": [
    "## 408 and 508\n",
    "\n",
    "<ol>\n",
    "\n",
    "<li>Exercise #1 on pp. 58-59 of the text.\n",
    "\n",
    "</ol>"
   ]
  },
  {
   "cell_type": "code",
   "execution_count": null,
   "metadata": {},
   "outputs": [],
   "source": [
    "if 2+2==5:\n",
    "print ('that shouldn't happen')\n",
    "    print ('or this....')"
   ]
  },
  {
   "cell_type": "markdown",
   "metadata": {},
   "source": [
    "This code gives an error since it is not written correctly. The first statement (print ('that shouldn't happen')) cannot be a contingent statement because it is not tabbed.\n",
    "An IF statement requires its first statement to be contingent on it by being tabbed. Although the second statement (  print ('or this....')) is tabbed, the code produces an error since the first contingent statement caused it to have an incorrect syntax. Both contingent statements have to be inside the IF block (although it is possible for the second one to be outside of the IF block). \n",
    "Moreover, even if the first print will be tabbed in the right position, it will produces an error. The string which includes an apostrophe (shouldn't) has been written inside the single quotes, leading to make the program unable to distingush the whole ('that shouldn't happen') as a single string. The string  either should be inside the double quotes or includes a backslash before the apostrophe.     \n",
    "The correct code will be the following although it does not give any output as the IF statement is not True. "
   ]
  },
  {
   "cell_type": "code",
   "execution_count": null,
   "metadata": {
    "collapsed": true
   },
   "outputs": [],
   "source": [
    "if 2+2==5:\n",
    "    print (\"that shouldn't happen\")\n",
    "    print ('or this....')\n",
    "#or\n",
    "if 2+2==5:\n",
    "    print ('that shouldn\\'t happen')\n",
    "    print ('or this....')\n"
   ]
  },
  {
   "cell_type": "code",
   "execution_count": null,
   "metadata": {},
   "outputs": [],
   "source": [
    "#As the IF statement is True, it will print both:\n",
    "if 2+2==4:\n",
    "    print ('that shouldn\\'t happen')\n",
    "    print ('or this....')"
   ]
  },
  {
   "cell_type": "markdown",
   "metadata": {},
   "source": [
    "<ol start=2>\n",
    "\n",
    "<li>Exercise #4 on p. 59 of the text.\n",
    "\n",
    "</ol>"
   ]
  },
  {
   "cell_type": "code",
   "execution_count": null,
   "metadata": {
    "collapsed": true
   },
   "outputs": [],
   "source": [
    "#Don't run it! Infinte loop!\n",
    "count = 0\n",
    "while count < 3:\n",
    "    print (count)\n",
    "    count=1"
   ]
  },
  {
   "cell_type": "markdown",
   "metadata": {},
   "source": [
    "This code will produce an infinte loop. The variable \"count\" will not be updated in every iteration of the while loop. In the first iteration it is 0, and it will be updated to 1 just in the second iteration and remains 1 for the rest of the iterations and as 1 is always less than 3, it causes the loop to be infintely print 1 which is the value of the \"count\" variable. There is no statement to close the loop somewhere in the iterations. The correct code will be:  "
   ]
  },
  {
   "cell_type": "code",
   "execution_count": null,
   "metadata": {},
   "outputs": [],
   "source": [
    "count = 0\n",
    "while count < 3:\n",
    "    print (count)\n",
    "    count=count+1 \n",
    "#or \n",
    "count = 0\n",
    "while count < 3:\n",
    "    print (count)\n",
    "    count+=1"
   ]
  },
  {
   "cell_type": "markdown",
   "metadata": {},
   "source": [
    "<ol start=3>\n",
    "\n",
    "<li>Exercise #2 on p. 59 of the text.\n",
    "\n",
    "</ol>"
   ]
  },
  {
   "cell_type": "code",
   "execution_count": null,
   "metadata": {},
   "outputs": [],
   "source": [
    "#define 3 prefixes and 3 words\n",
    "prefixes = ['anti' , 'semi', 'pre']\n",
    "words = ['missle','racism','music']\n",
    "#iterate over each word\n",
    "for word in words:\n",
    "# loop over prefixes\n",
    "    for i in range (len(prefixes)):\n",
    "        print (word)\n",
    "        selectedPref = prefixes[i]\n",
    "        #updating the selectedword, so the prefix won't attach to the previous seletctedword in the last iteration of while loop which had three prefixes\n",
    "        #preventing from producing the words like semi-anti-anti-anti-missle\n",
    "        selectedword = word\n",
    "        counter=0\n",
    "        #iterate while when counter is less than 3 \n",
    "        while counter<3:\n",
    "            #add the prefix the the selectedword\n",
    "            selectedword = selectedPref + '-' + selectedword\n",
    "            #print the new word\n",
    "            print(selectedword)\n",
    "            counter=counter+1\n",
    "        "
   ]
  },
  {
   "cell_type": "markdown",
   "metadata": {},
   "source": [
    "<ol start=4>\n",
    "<li>Exercise #8 on p.60 of the text.\n",
    "</ol>"
   ]
  },
  {
   "cell_type": "code",
   "execution_count": null,
   "metadata": {},
   "outputs": [],
   "source": [
    "vowels = 'aeiou'\n",
    "consonants = 'ptkbdg'\n",
    "#for every vowel, onset, coda\n",
    "for v in vowels:\n",
    "\tfor o in consonants:\n",
    "\t\tfor c in consonants:\n",
    "\t\t\t#exit the loop if onset == coda\n",
    "\t\t\tif o == c:\n",
    "\t\t\t\tbreak\n",
    "\t\t\t#print combination\n",
    "\t\t\tprint(o,v,c,sep='')"
   ]
  },
  {
   "cell_type": "markdown",
   "metadata": {},
   "source": [
    "Using \"break\" instead of \"continue\" would be wrong as it will not produce all the possiblities. When \"break\" is used, it causes the program to exit from the smallest for loop (in this case: for c in consonants). I mean as soon as the onset consonant and the coda consonant are the same, it does not check the following coda consonants for that particular onset consonant as well, and it goes to the next onset consonant. For example, when \"p\" is selected (as the production of the statement: for o in consonants), \"p\" will be also selected for the statement (for c in consonants) and since they are the same, it exit the last for loop and it does not check \"p\" as an onset with all the other consonants \"tkbdg\" as potential codas. This will be the same for other consonants selected as onsets. Thus, the output definitely does not include all the possibilities. In addition to removing the cases when two consonants are the same, it also removes many other allowed possibilities. "
   ]
  },
  {
   "cell_type": "markdown",
   "metadata": {},
   "source": [
    "## 508 only\n",
    "\n",
    "<ol start=5>\n",
    "\n",
    "<li>In section 3.7 of the text, we develop programs to generate nonsense words and nonsense sentences that respect certain restrictions, e.g. avoid identical consonants or replace an identical object with a reflexive. Amplify <em>one</em> of these programs to include <em>another</em> restriction.<p>\n",
    "\n",
    "Make sure to explain what the restriction is!\n",
    "\n",
    "</ol>"
   ]
  },
  {
   "cell_type": "markdown",
   "metadata": {},
   "source": [
    "I add a new variable (divs) composed of two ditransitive verbs as well as another variable named persPro which includes a single personal pronoun. The restriction is: in cases where the verb is ditransitive, the code is supposed to print all the possible SVO sentences including both o1 (direct object) and o2 (indirect object) in the follwoing word order : s,v,o2,o1. Note that the restriction on the substitution of \"vi\" for o1 in cases where the direct object (o1) is identical to the subject (s) is still valid even for ditransitive verbs. \n",
    "Hypothetically, this language allows the indirect objects just preceding the direct ones and not vise versa when the verb is ditransitive. "
   ]
  },
  {
   "cell_type": "code",
   "execution_count": null,
   "metadata": {},
   "outputs": [],
   "source": [
    "#Ns, Vs, Personal Pronoun, intransitives and ditransitives\n",
    "nouns1 = \"bla dor sna\".split()\n",
    "persPro = \"fo\".split()\n",
    "verbs = \"ha mog sud di mesh kof ge\".split()\n",
    "ivs = \"ha ge\".split()\n",
    "divs = \"mog di\".split()\n",
    "#for every S+V combo\n",
    "for s in nouns1:\n",
    "    for v in verbs:\n",
    "        #if the V is intransitive\n",
    "        if v in ivs:\n",
    "            print(s,v)\n",
    "        #if the V is ditransitive\n",
    "        elif v in divs:\n",
    "            for o1 in nouns1:\n",
    "                for o2 in persPro:\n",
    "                    #if subject and object1 are identical\n",
    "                    if s == o1:\n",
    "                        #replace O1 with \"vi\"\n",
    "                        o1 = \"vi\"\n",
    "                    print(s,v,o2,o1)\n",
    "        #otherwise the V is transitive\n",
    "        else:\n",
    "            for o1 in nouns1:\n",
    "                #if subject and object 1 are identical\n",
    "                if s == o1:\n",
    "                     #replace O1 with \"vi\"\n",
    "                    o1 = \"vi\"\n",
    "                print(s,v,o1)"
   ]
  },
  {
   "cell_type": "code",
   "execution_count": null,
   "metadata": {
    "collapsed": true
   },
   "outputs": [],
   "source": []
  }
 ],
 "metadata": {
  "kernelspec": {
   "display_name": "Python 3",
   "language": "python",
   "name": "python3"
  },
  "language_info": {
   "codemirror_mode": {
    "name": "ipython",
    "version": 3
   },
   "file_extension": ".py",
   "mimetype": "text/x-python",
   "name": "python",
   "nbconvert_exporter": "python",
   "pygments_lexer": "ipython3",
   "version": "3.6.1"
  }
 },
 "nbformat": 4,
 "nbformat_minor": 2
}
